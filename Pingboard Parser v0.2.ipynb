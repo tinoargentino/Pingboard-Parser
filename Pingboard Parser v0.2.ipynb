{
 "cells": [
  {
   "cell_type": "code",
   "execution_count": 92,
   "metadata": {},
   "outputs": [],
   "source": [
    "#Intructions to create the HTML file\n",
    "#\n",
    "#Go to pingboard\n",
    "#\n",
    "#Directory>Sprinklr Internal Departments\n",
    "#\n",
    "#Go to the bottom of the list and load all people. Right click on a picture and inspect\n",
    "#\n",
    "#Go to the HTML code, select the second line, <html>, right click>copy>copy outer HTML\n",
    "#\n",
    "#Paste to an HTML text file"
   ]
  },
  {
   "cell_type": "code",
   "execution_count": 93,
   "metadata": {},
   "outputs": [],
   "source": [
    "from urllib.request import urlopen\n",
    "#from urllib2 import urlopen\n",
    "from bs4 import BeautifulSoup\n",
    "import smtplib, ssl\n",
    "import requests\n",
    "import csv"
   ]
  },
  {
   "cell_type": "code",
   "execution_count": 94,
   "metadata": {},
   "outputs": [],
   "source": [
    "#input name of the file\n",
    "filename ='Insidesales.html'\n",
    "outfile = 'Insidesales.csv'\n",
    "\n",
    "#open(filename, 'w').close()\n",
    "\n",
    "file = open(filename, \"r\")\n",
    "\n"
   ]
  },
  {
   "cell_type": "code",
   "execution_count": 95,
   "metadata": {},
   "outputs": [],
   "source": [
    "soup = BeautifulSoup(file, 'html.parser')\n"
   ]
  },
  {
   "cell_type": "code",
   "execution_count": 96,
   "metadata": {},
   "outputs": [],
   "source": [
    "divTag = soup.findAll('div',{'class':'roster-card roster-card--user roster-card--clickable'})\n",
    "#feels_box = soup.find('span', attrs={'class':'deg-feels'})"
   ]
  },
  {
   "cell_type": "code",
   "execution_count": 97,
   "metadata": {
    "scrolled": true
   },
   "outputs": [
    {
     "data": {
      "text/plain": [
       "79"
      ]
     },
     "execution_count": 97,
     "metadata": {},
     "output_type": "execute_result"
    }
   ],
   "source": [
    "len(divTag)"
   ]
  },
  {
   "cell_type": "code",
   "execution_count": 98,
   "metadata": {},
   "outputs": [],
   "source": [
    "#list = []\n",
    "#for tag in divTag:\n",
    "#    name = tag.find('div',{'class':'roster-card__title'})\n",
    "#    src= tag.find('img')['src']\n",
    "#    print(name.text + \", \" +  src)\n",
    "#    #list.append(name.text + \", \" +  src + '\\r')\n",
    "#    list.append(name.text + \"; \" +  src + '\\r')"
   ]
  },
  {
   "cell_type": "code",
   "execution_count": 99,
   "metadata": {},
   "outputs": [],
   "source": [
    "file2=open(outfile, \"w\")\n",
    "#list = []\n",
    "for tag in divTag:\n",
    "    name = tag.find('div',{'class':'roster-card__title'})\n",
    "    src= tag.find('img')['src']\n",
    "    position = tag.find_all('div',{'class':'text--sm text--subtle break-word tooltipstered'})[0]\n",
    "    location = tag.find_all('div',{'class':'text--sm text--subtle break-word tooltipstered'})[1]\n",
    "    #print(name.text + \", \" +  src)\n",
    "    #list.append(name.text + \"; \" +  src + '\\r')\n",
    "    file2.write(name.text + \"; \" + position.text + \";\" + location.text + \";\" + src +'\\r')\n"
   ]
  },
  {
   "cell_type": "code",
   "execution_count": 100,
   "metadata": {},
   "outputs": [],
   "source": [
    "#outsalesfile=open(outfile, \"a+\")\n",
    "#list2 = []\n",
    "#for tag in divTagSales:\n",
    "#    name = tag.find('div',{'class':'roster-card__title'})\n",
    "#    src= tag.find('img')['src']\n",
    " #   #print(name.text + \", \" +  src)\n",
    " #   list2.append(name.text + \"; \" +  src + '\\r')\n",
    " #   outsalesfile.write(name.text + \"; \" +  src + '\\r')"
   ]
  },
  {
   "cell_type": "code",
   "execution_count": null,
   "metadata": {},
   "outputs": [],
   "source": []
  }
 ],
 "metadata": {
  "kernelspec": {
   "display_name": "Python 3",
   "language": "python",
   "name": "python3"
  },
  "language_info": {
   "codemirror_mode": {
    "name": "ipython",
    "version": 3
   },
   "file_extension": ".py",
   "mimetype": "text/x-python",
   "name": "python",
   "nbconvert_exporter": "python",
   "pygments_lexer": "ipython3",
   "version": "3.7.0"
  }
 },
 "nbformat": 4,
 "nbformat_minor": 2
}
