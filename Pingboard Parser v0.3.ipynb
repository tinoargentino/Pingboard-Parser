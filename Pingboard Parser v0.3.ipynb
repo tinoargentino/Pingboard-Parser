{
 "cells": [
  {
   "cell_type": "code",
   "execution_count": 295,
   "metadata": {},
   "outputs": [],
   "source": [
    "#Intructions to create the HTML file\n",
    "#\n",
    "#Go to pingboard\n",
    "#\n",
    "#Directory>Company Internal Departments\n",
    "#\n",
    "#Go to the bottom of the list and load all people. Right click on a picture and inspect\n",
    "#\n",
    "#Go to the HTML code, select the second line, <html>, right click>copy>copy outer HTML\n",
    "#\n",
    "#Paste to an HTML text file"
   ]
  },
  {
   "cell_type": "code",
   "execution_count": 296,
   "metadata": {},
   "outputs": [],
   "source": [
    "from urllib.request import urlopen\n",
    "#from urllib2 import urlopen\n",
    "from bs4 import BeautifulSoup\n",
    "import smtplib, ssl\n",
    "import requests\n",
    "import csv"
   ]
  },
  {
   "cell_type": "code",
   "execution_count": 297,
   "metadata": {},
   "outputs": [],
   "source": [
    "#input name of the file\n",
    "filename ='Insidesales.html'\n",
    "outfile = 'Insidesales2.csv'\n",
    "\n",
    "#open(filename, 'w').close()\n",
    "\n",
    "file = open(filename, \"r\")\n",
    "\n"
   ]
  },
  {
   "cell_type": "code",
   "execution_count": 298,
   "metadata": {},
   "outputs": [],
   "source": [
    "soup = BeautifulSoup(file, 'html.parser')\n"
   ]
  },
  {
   "cell_type": "code",
   "execution_count": 299,
   "metadata": {},
   "outputs": [],
   "source": [
    "divTag = soup.findAll('div',{'class':'roster-card roster-card--user roster-card--clickable'})\n",
    "#feels_box = soup.find('span', attrs={'class':'deg-feels'})"
   ]
  },
  {
   "cell_type": "code",
   "execution_count": 300,
   "metadata": {
    "scrolled": true
   },
   "outputs": [
    {
     "data": {
      "text/plain": [
       "79"
      ]
     },
     "execution_count": 300,
     "metadata": {},
     "output_type": "execute_result"
    }
   ],
   "source": [
    "len(divTag)"
   ]
  },
  {
   "cell_type": "code",
   "execution_count": 301,
   "metadata": {},
   "outputs": [],
   "source": [
    "#list = []\n",
    "#for tag in divTag:\n",
    "#    name = tag.find('div',{'class':'roster-card__title'})\n",
    "#    src= tag.find('img')['src']\n",
    "#    print(name.text + \", \" +  src)\n",
    "#    #list.append(name.text + \", \" +  src + '\\r')\n",
    "#    list.append(name.text + \"; \" +  src + '\\r')"
   ]
  },
  {
   "cell_type": "code",
   "execution_count": 302,
   "metadata": {},
   "outputs": [
    {
     "name": "stdout",
     "output_type": "stream",
     "text": [
      "Relationship ManagerAustin, TX\n",
      "Director, MarketingNYC Headquarter\n",
      "Senior Relationship ManagerAustin, TX\n",
      "Senior Manager, MarketingRemote Employees - USA\n",
      "Relationship ManagerAustin, TX\n",
      "Senior Relationship ManagerMunich, Germany\n",
      "Manager, MarketingParis, France\n",
      "Analyst, Inside SalesAustin, TX\n",
      "Associate Director, Inside SalesAustin, TX\n",
      "Manager, MarketingNYC Headquarter\n",
      "Relationship ManagerAustin, TX\n",
      "Relationship ManagerAustin, TX\n",
      "Senior Associate, MarketingSao Paulo, Brazil\n",
      "Associate, MarketingBangalore, India\n",
      "Relationship ManagerAustin, TX\n",
      "Senior Associate, MarketingAustin, TX\n",
      "Program ManagerNYC Headquarter\n",
      "Senior Manager, MarketingTokyo, Japan\n",
      "Relationship ManagerAustin, TX\n",
      "Associate Director, MarketingRemote Employees - USA\n",
      "Relationship ManagerAustin, TX\n",
      "Senior Manager, MarketingAustin, TX\n",
      "Relationship ManagerAustin, TX\n",
      "Senior Associate, MarketingBangalore, India\n",
      "Relationship ManagerAustin, TX\n",
      "Senior Manager, MarketingRemote Employees - USA\n",
      "Relationship ManagerLondon, UK\n",
      "Team Lead, Inside SalesAustin, TX\n",
      "Associate Director, MarketingNYC Headquarter\n",
      "Relationship ManagerAustin, TX\n",
      "Relationship ManagerParis, France\n",
      "Relationship ManagerAustin, TX\n",
      "Chief Marketing OfficerRemote Employees - USA\n",
      "InternLondon, UK\n",
      "Associate Director, Product ManagementAustin, TX\n",
      "Associate, MarketingAustin, TX\n",
      "Associate Director, Product MarketingSan Francisco, CA\n",
      "Relationship ManagerAustin, TX\n",
      "Director, MarketingLondon, UK\n",
      "Manager, MarketingRemote Employees - USA\n",
      "Relationship ManagerLondon, UK\n",
      "Manager, Individual OutreachAustin, TX\n",
      "Associate Director, Product & Solutions EnablAustin, TX\n",
      "Relationship ManagerAustin, TX\n",
      "InternAustin, TX\n",
      "Relationship ManagerAustin, TX\n",
      "Director, Product MarketingAustin, TX\n",
      "Relationship ManagerAustin, TX\n",
      "InternAustin, TX\n",
      "Senior Relationship ManagerParis, France\n",
      "Team Lead, Inside SalesAustin, TX\n",
      "Relationship ManagerAustin, TX\n",
      "Senior Associate, MarketingNYC Headquarter\n",
      "InternAustin, TX\n",
      "Relationship ManagerAustin, TX\n",
      "VP, MarketingPortland, OR\n",
      "Senior Manager, MarketingNYC Headquarter\n",
      "Relationship ManagerLondon, UK\n",
      "Associate Director, Inside SalesAustin, TX\n",
      "Relationship ManagerAustin, TX\n",
      "Relationship ManagerLondon, UK\n",
      "VP, MarketingNYC Headquarter\n",
      "Relationship ManagerLondon, UK\n",
      "Manager, MarketingBangalore, India\n",
      "VP, Product MarketingNYC Headquarter\n",
      "Associate Director, Inside SalesLondon, UK\n",
      "Associate Director, MarketingSan Francisco, CA\n",
      "Senior Associate, MarketingRemote Employees - USA\n",
      "Senior Associate, MarketingNYC Headquarter\n",
      "Director, Inside SalesNYC Headquarter\n",
      "Manager, MarketingNYC Headquarter\n",
      "InternBangalore, India\n",
      "InternBangalore, India\n",
      "Relationship ManagerLondon, UK\n",
      "Senior Relationship ManagerAustin, TX\n",
      "Senior Manager, MarketingNYC Headquarter\n",
      "Team Lead, Inside SalesLondon, UK\n",
      "Relationship ManagerSingapore\n",
      "VP, MarketingNYC Headquarter\n"
     ]
    }
   ],
   "source": [
    "\n",
    "#<div class=\"text--sm text--subtle break-word\" title=\"Job title\">Director of Sales</div>\n",
    "#<div class=\"timestamp updated\" title=\"2016-05-08T1231Z\">May 8, 12:31 PM EDT</div>\n",
    "\n",
    "\n",
    "file2=open(outfile, \"w\")\n",
    "\n",
    "for tag in divTag:\n",
    "    name = tag.find('div',{'class':'roster-card__title'}).text\n",
    "    src= tag.find('img')['src']\n",
    "    try:\n",
    "        position = tag.find_all('div',{'class':'text--sm text--subtle break-word tooltipstered'})[0].text\n",
    "    except:\n",
    "        position = tag.find_all('div',{'class':'text--sm text--subtle break-word'})[0].text\n",
    "        pass\n",
    "    try:\n",
    "        location = tag.find_all('div',{'class':'text--sm text--subtle break-word tooltipstered'})[1].text\n",
    "    except:\n",
    "        location = tag.find_all('div',{'class':'text--sm text--subtle break-word'})[1].text\n",
    "        #print(tag.find_all('div',{'class':'text--sm text--subtle break-word'})[1].text)\n",
    "    \n",
    "    #position = tag.find_all('div',{'class':'text--sm text--subtle break-word tooltipstered'})\n",
    "    #print(position)\n",
    "    #location = tag.find('div',{'class':'text--sm text--subtle break-word tooltipstered'})['Office Location']\n",
    "    \n",
    "    print(nameposition + location)\n",
    "    file2.write(name + \"; \" + position + \";\" + location + \";\" + src +'\\r')\n"
   ]
  },
  {
   "cell_type": "code",
   "execution_count": 303,
   "metadata": {},
   "outputs": [],
   "source": [
    "#outsalesfile=open(outfile, \"a+\")\n",
    "#list2 = []\n",
    "#for tag in divTagSales:\n",
    "#    name = tag.find('div',{'class':'roster-card__title'})\n",
    "#    src= tag.find('img')['src']\n",
    " #   #print(name.text + \", \" +  src)\n",
    " #   list2.append(name.text + \"; \" +  src + '\\r')\n",
    " #   outsalesfile.write(name.text + \"; \" +  src + '\\r')"
   ]
  },
  {
   "cell_type": "code",
   "execution_count": null,
   "metadata": {},
   "outputs": [],
   "source": []
  }
 ],
 "metadata": {
  "kernelspec": {
   "display_name": "Python 3",
   "language": "python",
   "name": "python3"
  },
  "language_info": {
   "codemirror_mode": {
    "name": "ipython",
    "version": 3
   },
   "file_extension": ".py",
   "mimetype": "text/x-python",
   "name": "python",
   "nbconvert_exporter": "python",
   "pygments_lexer": "ipython3",
   "version": "3.7.0"
  }
 },
 "nbformat": 4,
 "nbformat_minor": 2
}
