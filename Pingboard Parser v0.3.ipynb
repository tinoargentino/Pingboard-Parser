{
 "cells": [
  {
   "cell_type": "code",
   "execution_count": 295,
   "metadata": {},
   "outputs": [],
   "source": [
    "#Intructions to create the HTML file\n",
    "#\n",
    "#Go to pingboard\n",
    "#\n",
    "#Directory>Company Internal Departments\n",
    "#\n",
    "#Go to the bottom of the list and load all people. Right click on a picture and inspect\n",
    "#\n",
    "#Go to the HTML code, select the second line, <html>, right click>copy>copy outer HTML\n",
    "#\n",
    "#Paste to an HTML text file"
   ]
  },
  {
   "cell_type": "code",
   "execution_count": 296,
   "metadata": {},
   "outputs": [],
   "source": [
    "from urllib.request import urlopen\n",
    "#from urllib2 import urlopen\n",
    "from bs4 import BeautifulSoup\n",
    "import smtplib, ssl\n",
    "import requests\n",
    "import csv"
   ]
  },
  {
   "cell_type": "code",
   "execution_count": 297,
   "metadata": {},
   "outputs": [],
   "source": [
    "#input name of the file\n",
    "filename ='Insidesales.html'\n",
    "outfile = 'Insidesales2.csv'\n",
    "\n",
    "#open(filename, 'w').close()\n",
    "\n",
    "file = open(filename, \"r\")\n",
    "\n"
   ]
  },
  {
   "cell_type": "code",
   "execution_count": 298,
   "metadata": {},
   "outputs": [],
   "source": [
    "soup = BeautifulSoup(file, 'html.parser')\n"
   ]
  },
  {
   "cell_type": "code",
   "execution_count": 299,
   "metadata": {},
   "outputs": [],
   "source": [
    "divTag = soup.findAll('div',{'class':'roster-card roster-card--user roster-card--clickable'})\n",
    "#feels_box = soup.find('span', attrs={'class':'deg-feels'})"
   ]
  },
  {
   "cell_type": "code",
   "execution_count": 300,
   "metadata": {
    "scrolled": true
   },
   "outputs": [
    {
     "data": {
      "text/plain": [
       "79"
      ]
     },
     "execution_count": 300,
     "metadata": {},
     "output_type": "execute_result"
    }
   ],
   "source": [
    "len(divTag)"
   ]
  },
  {
   "cell_type": "code",
   "execution_count": 301,
   "metadata": {},
   "outputs": [],
   "source": [
    "#list = []\n",
    "#for tag in divTag:\n",
    "#    name = tag.find('div',{'class':'roster-card__title'})\n",
    "#    src= tag.find('img')['src']\n",
    "#    print(name.text + \", \" +  src)\n",
    "#    #list.append(name.text + \", \" +  src + '\\r')\n",
    "#    list.append(name.text + \"; \" +  src + '\\r')"
   ]
  },
  {
   "cell_type": "code",
   "execution_count": 305,
   "metadata": {},
   "outputs": [
    {
     "name": "stdout",
     "output_type": "stream",
     "text": [
      "Adam BooneRelationship ManagerAustin, TX\n",
      "Alan LiDirector, MarketingNYC Headquarter\n",
      "Alec ArmerSenior Relationship ManagerAustin, TX\n",
      "Alison BackscheiderSenior Manager, MarketingRemote Employees - USA\n",
      "Andrew HellerRelationship ManagerAustin, TX\n",
      "Anja ChristophSenior Relationship ManagerMunich, Germany\n",
      "Arnaud TamisierManager, MarketingParis, France\n",
      "Asad BidiwalaAnalyst, Inside SalesAustin, TX\n",
      "Ben FoleyAssociate Director, Inside SalesAustin, TX\n",
      "Benjamin WaldronManager, MarketingNYC Headquarter\n",
      "Billy MarteRelationship ManagerAustin, TX\n",
      "Brett DalbeyRelationship ManagerAustin, TX\n",
      "Carolina FaustinoSenior Associate, MarketingSao Paulo, Brazil\n",
      "Chandana RajaAssociate, MarketingBangalore, India\n",
      "Charlie HicksRelationship ManagerAustin, TX\n",
      "Chelsea MorrisSenior Associate, MarketingAustin, TX\n",
      "Cheyenne DermodyProgram ManagerNYC Headquarter\n",
      "Chisato TsujiSenior Manager, MarketingTokyo, Japan\n",
      "Chris TowleRelationship ManagerAustin, TX\n",
      "Christina SnellAssociate Director, MarketingRemote Employees - USA\n",
      "Dale GranzowRelationship ManagerAustin, TX\n",
      "Davin GalbraithSenior Manager, MarketingAustin, TX\n",
      "Dean RasheedRelationship ManagerAustin, TX\n",
      "Deepak NathSenior Associate, MarketingBangalore, India\n",
      "Dominic SuaresRelationship ManagerAustin, TX\n",
      "Drew TamblingSenior Manager, MarketingRemote Employees - USA\n",
      "Edmond AttaRelationship ManagerLondon, UK\n",
      "Emily SparksTeam Lead, Inside SalesAustin, TX\n",
      "Eric EgertonAssociate Director, MarketingNYC Headquarter\n",
      "Eric UchoaRelationship ManagerAustin, TX\n",
      "Felipe CortesRelationship ManagerParis, France\n",
      "Garrett CatheyRelationship ManagerAustin, TX\n",
      "Grad ConnChief Marketing OfficerRemote Employees - USA\n",
      "Guillaume BonnaventureInternLondon, UK\n",
      "Holly WatsonAssociate Director, Product ManagementAustin, TX\n",
      "Ian HensleyAssociate, MarketingAustin, TX\n",
      "Idan DeutschAssociate Director, Product MarketingSan Francisco, CA\n",
      "Jake RaulersonRelationship ManagerAustin, TX\n",
      "Jen BrownDirector, MarketingLondon, UK\n",
      "Jennifer YoungedykeManager, MarketingRemote Employees - USA\n",
      "Jenny BrennanRelationship ManagerLondon, UK\n",
      "Jesse WadeManager, Individual OutreachAustin, TX\n",
      "Jessica RutlandAssociate Director, Product & Solutions EnablAustin, TX\n",
      "Joel MyersRelationship ManagerAustin, TX\n",
      "Jordan AshbyInternAustin, TX\n",
      "Kaley KocikRelationship ManagerAustin, TX\n",
      "Kavya NathDirector, Product MarketingAustin, TX\n",
      "Kevin McCannRelationship ManagerAustin, TX\n",
      "Kristian SanchezInternAustin, TX\n",
      "Leonard TrautmannSenior Relationship ManagerParis, France\n",
      "Luke BroussardTeam Lead, Inside SalesAustin, TX\n",
      "Mallory BowenRelationship ManagerAustin, TX\n",
      "Margaret MayerSenior Associate, MarketingNYC Headquarter\n",
      "Marisela AbreoInternAustin, TX\n",
      "Marshall GeyerRelationship ManagerAustin, TX\n",
      "Marshall KirkpatrickVP, MarketingPortland, OR\n",
      "Mauro NissanSenior Manager, MarketingNYC Headquarter\n",
      "Maxwell BoydRelationship ManagerLondon, UK\n",
      "Meaghan HurleyAssociate Director, Inside SalesAustin, TX\n",
      "Michael WadeRelationship ManagerAustin, TX\n",
      "Michael WhittakerRelationship ManagerLondon, UK\n",
      "Murray OxleyVP, MarketingNYC Headquarter\n",
      "Myriam KhamarRelationship ManagerLondon, UK\n",
      "Neela KumariManager, MarketingBangalore, India\n",
      "Paul MichaudVP, Product MarketingNYC Headquarter\n",
      "Pierce MorrisonAssociate Director, Inside SalesLondon, UK\n",
      "Rachel AlvarezAssociate Director, MarketingSan Francisco, CA\n",
      "Rob VanderzyppeSenior Associate, MarketingRemote Employees - USA\n",
      "Sabrina PierceSenior Associate, MarketingNYC Headquarter\n",
      "Seth AshbyDirector, Inside SalesNYC Headquarter\n",
      "Sharon ChungManager, MarketingNYC Headquarter\n",
      "Smeet Saurabh ChudgarInternBangalore, India\n",
      "Sumi BhartiInternBangalore, India\n",
      "Thomas LeeRelationship ManagerLondon, UK\n",
      "Thomas LucianoSenior Relationship ManagerAustin, TX\n",
      "Tisha MahalSenior Manager, MarketingNYC Headquarter\n",
      "Tom AllenTeam Lead, Inside SalesLondon, UK\n",
      "William HsuRelationship ManagerSingapore\n",
      "Yoli ChisholmVP, MarketingNYC Headquarter\n"
     ]
    }
   ],
   "source": [
    "\n",
    "#<div class=\"text--sm text--subtle break-word\" title=\"Job title\">Director of Sales</div>\n",
    "#<div class=\"timestamp updated\" title=\"2016-05-08T1231Z\">May 8, 12:31 PM EDT</div>\n",
    "\n",
    "\n",
    "file2=open(outfile, \"w\")\n",
    "\n",
    "for tag in divTag:\n",
    "    name = tag.find('div',{'class':'roster-card__title'}).text\n",
    "    src= tag.find('img')['src']\n",
    "    try:\n",
    "        position = tag.find_all('div',{'class':'text--sm text--subtle break-word tooltipstered'})[0].text\n",
    "    except:\n",
    "        position = tag.find_all('div',{'class':'text--sm text--subtle break-word'})[0].text\n",
    "        pass\n",
    "    try:\n",
    "        location = tag.find_all('div',{'class':'text--sm text--subtle break-word tooltipstered'})[1].text\n",
    "    except:\n",
    "        location = tag.find_all('div',{'class':'text--sm text--subtle break-word'})[1].text\n",
    "        #print(tag.find_all('div',{'class':'text--sm text--subtle break-word'})[1].text)\n",
    "        pass\n",
    "    \n",
    "    #position = tag.find_all('div',{'class':'text--sm text--subtle break-word tooltipstered'})\n",
    "    #print(position)\n",
    "    #location = tag.find('div',{'class':'text--sm text--subtle break-word tooltipstered'})['Office Location']\n",
    "    \n",
    "    print(name + position + location)\n",
    "    file2.write(name + \"; \" + position + \";\" + location + \";\" + src +'\\r')\n"
   ]
  },
  {
   "cell_type": "code",
   "execution_count": 303,
   "metadata": {},
   "outputs": [],
   "source": [
    "#outsalesfile=open(outfile, \"a+\")\n",
    "#list2 = []\n",
    "#for tag in divTagSales:\n",
    "#    name = tag.find('div',{'class':'roster-card__title'})\n",
    "#    src= tag.find('img')['src']\n",
    " #   #print(name.text + \", \" +  src)\n",
    " #   list2.append(name.text + \"; \" +  src + '\\r')\n",
    " #   outsalesfile.write(name.text + \"; \" +  src + '\\r')"
   ]
  },
  {
   "cell_type": "code",
   "execution_count": null,
   "metadata": {},
   "outputs": [],
   "source": []
  }
 ],
 "metadata": {
  "kernelspec": {
   "display_name": "Python 3",
   "language": "python",
   "name": "python3"
  },
  "language_info": {
   "codemirror_mode": {
    "name": "ipython",
    "version": 3
   },
   "file_extension": ".py",
   "mimetype": "text/x-python",
   "name": "python",
   "nbconvert_exporter": "python",
   "pygments_lexer": "ipython3",
   "version": "3.7.0"
  }
 },
 "nbformat": 4,
 "nbformat_minor": 2
}
